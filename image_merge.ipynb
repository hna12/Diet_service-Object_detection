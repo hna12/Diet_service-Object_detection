{
  "cells": [
    {
      "cell_type": "markdown",
      "metadata": {
        "id": "OkJC-ZB36Ecr"
      },
      "source": [
        "# Importing library"
      ]
    },
    {
      "cell_type": "code",
      "execution_count": 1,
      "metadata": {
        "colab": {
          "base_uri": "https://localhost:8080/"
        },
        "id": "orHrXz82nhLN",
        "outputId": "680771b8-359c-4e79-dcff-a72b04382688"
      },
      "outputs": [
        {
          "name": "stdout",
          "output_type": "stream",
          "text": [
            "Mounted at /content/drive\n"
          ]
        }
      ],
      "source": [
        "from google.colab import drive\n",
        "drive.mount('/content/drive')\n",
        "import os\n",
        "import cv2\n",
        "import glob\n",
        "import shutil\n",
        "import numpy as np\n",
        "from PIL import Image\n",
        "from tqdm.notebook import tqdm"
      ]
    },
    {
      "cell_type": "code",
      "execution_count": null,
      "metadata": {
        "id": "vzTzLQXh6OJw"
      },
      "outputs": [],
      "source": [
        "folder_path = '/content/drive/MyDrive/KDT/offline/mini_project4-object_detection/UECFOOD100'"
      ]
    },
    {
      "cell_type": "markdown",
      "metadata": {
        "id": "0BwZf4GTAnnl"
      },
      "source": [
        "#이미지 데이터 한군데에 모으기\n",
        "- 이를 통해 중복 데이터 제거할 계획\n"
      ]
    },
    {
      "cell_type": "markdown",
      "metadata": {
        "id": "-KXuIkq1B_ib"
      },
      "source": [
        "### 모든 파일 경로 저장"
      ]
    },
    {
      "cell_type": "code",
      "execution_count": null,
      "metadata": {
        "colab": {
          "base_uri": "https://localhost:8080/"
        },
        "id": "-zZIIYbR5fRn",
        "outputId": "480e033b-3894-41cb-efe8-f91fefc83fac"
      },
      "outputs": [],
      "source": [
        "#.jpg만 list에 담고 싶은 경우 -> glob사용시 .jpg로 끝나는 파일들만 걸러져서 list에 담겨짐\n",
        "paths = []  #파일 경로 담을 리스트\n",
        "for folder, _, files in os.walk('/content/drive/MyDrive/KDT/offline/mini_project4-object_detection/UECFOOD100'):\n",
        "  for file in files:\n",
        "    if 'jpg' in file:\n",
        "      paths.append(folder + '/' + file)\n",
        "print(paths)"
      ]
    },
    {
      "cell_type": "markdown",
      "metadata": {
        "id": "BnfCoQ9ZB5l5"
      },
      "source": [
        "### 이미지 한곳에 모을 images 폴더 생성"
      ]
    },
    {
      "cell_type": "code",
      "execution_count": null,
      "metadata": {
        "id": "nyLVgpoMB1QM"
      },
      "outputs": [],
      "source": [
        "# 폴더 병합\n",
        "# parent_folder에 folder_name이 기존에 없을 경우 새로 생성하는 함수 생성\n",
        "def make_new_folder(folder_name, parent_folder): \n",
        "    # Path\n",
        "    path = os.path.join(parent_folder, folder_name)\n",
        "    # Parent folder에 새로운 폴더 생성\n",
        "    try: \n",
        "        mode = 0o777 #default로 권한부여하는거 -> 7은 모든 권한 다 활성화해라는 말\n",
        "        # Path에 폴더 생성\n",
        "        os.mkdir(path, mode) \n",
        "    except OSError as error: \n",
        "        print(error)"
      ]
    },
    {
      "cell_type": "code",
      "execution_count": null,
      "metadata": {
        "id": "UlR_KgyCB4bi"
      },
      "outputs": [],
      "source": [
        "# 새롭게 생성할 폴더명 지정\n",
        "merge_folder = \"images\"\n",
        "\n",
        "# 새롭게 생성할 폴더 디렉토리 지정\n",
        "merge_folder_path = os.path.join('/content/drive/MyDrive/KDT/offline/mini_project4-object_detection/darknet/data', merge_folder) \n",
        "\n",
        "# 새로운 폴더 생성\n",
        "make_new_folder(merge_folder, '/content/drive/MyDrive/KDT/offline/mini_project4-object_detection/darknet/data/')"
      ]
    },
    {
      "cell_type": "code",
      "execution_count": null,
      "metadata": {
        "id": "34RTCC6Am_2B"
      },
      "outputs": [],
      "source": [
        "destination_path = '/content/drive/MyDrive/KDT/offline/mini_project4-object_detection/darknet/data/' \n",
        "#경로뿐만아니라 파일 이름까지 필요\n",
        "for f in paths: #paths : 파일 경로 담은 list\n",
        "  content = f.split('/')[-1] #파일 이름\n",
        "  path_to_content = destination_path + content\n",
        "  shutil.move(f, path_to_content)"
      ]
    },
    {
      "cell_type": "markdown",
      "metadata": {
        "id": "EfMxQN0GzmlZ"
      },
      "source": [
        "### imgaes 폴더에서 사진 모으기"
      ]
    },
    {
      "cell_type": "code",
      "execution_count": null,
      "metadata": {
        "id": "T9r246-ocbuD"
      },
      "outputs": [],
      "source": [
        "darknet_path = '/content/drive/MyDrive/KDT/offline/mini_project4-object_detection/darknet/data/images'\n",
        "folder_path = '/content/drive/MyDrive/KDT/offline/mini_project4-object_detection/UECFOOD100'\n",
        "for i in range(1,101):\n",
        "  each_folder = os.listdir(folder_path+'/'+str(i))\n",
        "  #print(each_folder)\n",
        "  length = len(each_folder)\n",
        "  for idx in range(length):\n",
        "    if each_folder[idx][-3:] == 'jpg':\n",
        "      os.system('mv each_folder[idx] darknet_path')\n",
        "  break"
      ]
    },
    {
      "cell_type": "markdown",
      "metadata": {
        "id": "QG-6m-vUtA9z"
      },
      "source": [
        "###중복이 제거된 최종 데이터 개수 "
      ]
    },
    {
      "cell_type": "code",
      "execution_count": null,
      "metadata": {
        "id": "pl_6IRdZjqRT"
      },
      "outputs": [],
      "source": [
        "path ='/content/drive/MyDrive/KDT/offline/mini_project4-object_detection/darknet/data/images/*'\n",
        "length = len(glob.glob(path))\n",
        "length"
      ]
    },
    {
      "cell_type": "markdown",
      "metadata": {
        "id": "Ldvc6Uni0nd9"
      },
      "source": [
        "#txt 파일 생성"
      ]
    },
    {
      "cell_type": "markdown",
      "metadata": {
        "id": "Wvizaae95OOC"
      },
      "source": [
        "### img이름과 같은 빈 txt 파일 부터 만들기 "
      ]
    },
    {
      "cell_type": "code",
      "execution_count": null,
      "metadata": {
        "colab": {
          "base_uri": "https://localhost:8080/"
        },
        "id": "T-GZju89uT3r",
        "outputId": "d5ebe59d-341c-4e1f-f1dd-a20015ae86ea"
      },
      "outputs": [],
      "source": [
        "img_path = '/content/drive/MyDrive/KDT/offline/mini_project4-object_detection/darknet/data/images/'\n",
        "txt_list = []\n",
        "imgs = os.listdir(img_path)\n",
        "for img in imgs:\n",
        "  txt_list.append(img.replace('jpg','txt'))\n",
        "txt_list"
      ]
    },
    {
      "cell_type": "code",
      "execution_count": null,
      "metadata": {
        "colab": {
          "base_uri": "https://localhost:8080/"
        },
        "id": "4IRcXPbw4lQ4",
        "outputId": "0c1d614d-45ac-4d9a-80ff-727aff1e7779"
      },
      "outputs": [
        {
          "data": {
            "text/plain": [
              "12740"
            ]
          },
          "execution_count": 21,
          "metadata": {},
          "output_type": "execute_result"
        }
      ],
      "source": [
        "len(txt_list)"
      ]
    },
    {
      "cell_type": "markdown",
      "metadata": {
        "id": "9HWfA6-kF1yZ"
      },
      "source": [
        "### 빈 txt파일에 내용 채우기"
      ]
    },
    {
      "cell_type": "code",
      "execution_count": null,
      "metadata": {
        "id": "j0yUiAcA6TeI"
      },
      "outputs": [],
      "source": [
        "for i in txt_list:\n",
        "  temp_path = os.path.join(img_path, i)\n",
        "  f = open(temp_path, 'w')\n",
        "  f.write(temp_path+'\\n')\n",
        "  f.close()"
      ]
    }
  ],
  "metadata": {
    "accelerator": "GPU",
    "colab": {
      "collapsed_sections": [],
      "machine_shape": "hm",
      "provenance": []
    },
    "kernelspec": {
      "display_name": "Python 3",
      "name": "python3"
    },
    "language_info": {
      "name": "python"
    }
  },
  "nbformat": 4,
  "nbformat_minor": 0
}
