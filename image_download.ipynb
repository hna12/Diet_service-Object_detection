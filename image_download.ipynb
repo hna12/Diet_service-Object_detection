{
  "nbformat": 4,
  "nbformat_minor": 0,
  "metadata": {
    "colab": {
      "provenance": [],
      "collapsed_sections": []
    },
    "kernelspec": {
      "name": "python3",
      "display_name": "Python 3"
    },
    "language_info": {
      "name": "python"
    }
  },
  "cells": [
    {
      "cell_type": "markdown",
      "source": [
        "#dataset 가져오기"
      ],
      "metadata": {
        "id": "Pjoht1M8hvIG"
      }
    },
    {
      "cell_type": "code",
      "source": [
        "from google.colab import drive\n",
        "drive.mount('/content/drive')"
      ],
      "metadata": {
        "id": "CxWzKjVih2s0"
      },
      "execution_count": null,
      "outputs": []
    },
    {
      "cell_type": "code",
      "source": [
        "%cd /content/drive/MyDrive/KDT/offline/mini\\ project4-object\\ detection\n",
        "current_folder = os.getcwd() "
      ],
      "metadata": {
        "id": "Pq6TXUfih4aI"
      },
      "execution_count": null,
      "outputs": []
    },
    {
      "cell_type": "code",
      "source": [
        "!wget 'http://foodcam.mobi/dataset100.zip'"
      ],
      "metadata": {
        "id": "EIhONdVNh6JE"
      },
      "execution_count": null,
      "outputs": []
    },
    {
      "cell_type": "code",
      "source": [
        "!unzip dataset100.zip"
      ],
      "metadata": {
        "id": "rXnTUn-Uh8oC"
      },
      "execution_count": null,
      "outputs": []
    },
    {
      "cell_type": "code",
      "execution_count": null,
      "metadata": {
        "colab": {
          "base_uri": "https://localhost:8080/"
        },
        "id": "61hmIUDKNNDS",
        "outputId": "db3daf6d-06a9-464a-ffde-ad67e82b0dbe"
      },
      "outputs": [
        {
          "output_type": "stream",
          "name": "stdout",
          "text": [
            "Drive already mounted at /content/drive; to attempt to forcibly remount, call drive.mount(\"/content/drive\", force_remount=True).\n"
          ]
        }
      ],
      "source": [
        "import os\n",
        "import cv2\n",
        "import numpy as np\n",
        "from PIL import Image\n",
        "from tqdm.notebook import tqdm"
      ]
    },
    {
      "cell_type": "code",
      "source": [
        "!cd drive/MyDrive/KDT/offline/mini\\ project4-object\\ detection/UECFOOD100; ls"
      ],
      "metadata": {
        "colab": {
          "base_uri": "https://localhost:8080/"
        },
        "id": "DYSAbZYkNetk",
        "outputId": "ae818a1b-09c3-4498-97d2-5b4b9ade14d0"
      },
      "execution_count": null,
      "outputs": [
        {
          "output_type": "stream",
          "name": "stdout",
          "text": [
            "1    17  25  33  41  5\t 58  66  74  82  90  99\n",
            "10   18  26  34  42  50  59  67  75  83  91  category_ja_euc.txt\n",
            "100  19  27  35  43  51  6   68  76  84  92  category_ja_sjis.txt\n",
            "11   2\t 28  36  44  52  60  69  77  85  93  category_ja_utf8.txt\n",
            "12   20  29  37  45  53  61  7\t 78  86  94  category.txt\n",
            "13   21  3   38  46  54  62  70  79  87  95  multiple_food.txt\n",
            "14   22  30  39  47  55  63  71  8   88  96  README.txt\n",
            "15   23  31  4\t 48  56  64  72  80  89  97\n",
            "16   24  32  40  49  57  65  73  81  9\t 98\n"
          ]
        }
      ]
    }
  ]
}