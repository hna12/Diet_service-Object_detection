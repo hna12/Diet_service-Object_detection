{
  "nbformat": 4,
  "nbformat_minor": 0,
  "metadata": {
    "colab": {
      "provenance": [],
      "collapsed_sections": []
    },
    "kernelspec": {
      "name": "python3",
      "display_name": "Python 3"
    },
    "language_info": {
      "name": "python"
    }
  },
  "cells": [
    {
      "cell_type": "markdown",
      "source": [
        "#Importing library"
      ],
      "metadata": {
        "id": "Pjoht1M8hvIG"
      }
    },
    {
      "cell_type": "code",
      "execution_count": null,
      "metadata": {
        "colab": {
          "base_uri": "https://localhost:8080/"
        },
        "id": "61hmIUDKNNDS",
        "outputId": "db3daf6d-06a9-464a-ffde-ad67e82b0dbe"
      },
      "outputs": [
        {
          "output_type": "stream",
          "name": "stdout",
          "text": [
            "Drive already mounted at /content/drive; to attempt to forcibly remount, call drive.mount(\"/content/drive\", force_remount=True).\n"
          ]
        }
      ],
      "source": [
        "import glob\n",
        "from PIL import Image\n",
        "from tqdm.notebook import tqdm\n",
        "from google.colab import drive\n",
        "drive.mount('/content/drive')"
      ]
    },
    {
      "cell_type": "markdown",
      "source": [
        "#image size 정규화\n"
      ],
      "metadata": {
        "id": "v2hJT9t3FuSP"
      }
    },
    {
      "cell_type": "markdown",
      "source": [
        "bb_info : img xmin ymin xmax ymax -> class xcenter ycenter w h"
      ],
      "metadata": {
        "id": "P-BfFWbpp9eP"
      }
    },
    {
      "cell_type": "code",
      "source": [
        "#bbox size 변환\n",
        "def convert_yolo_bbox(img_size, box):\n",
        "\n",
        "    dw = 1./img_size[0] #image의 가로길이\n",
        "    dh = 1./img_size[1] #image의 세로길이\n",
        "    # 센터 x, y 좌표\n",
        "    x = (int(box[1]) + int(box[3]))/2.0 #box1 = x1, box3 = x2\n",
        "    y = (int(box[2]) + int(box[4]))/2.0 #box2 = y1, box4 = y2\n",
        "\n",
        "    # w,h 값\n",
        "    w = abs(int(box[3])-int(box[1])) #abs: 절대값\n",
        "    h = abs(int(box[4])-int(box[2]))\n",
        "    \n",
        "    #정규화\n",
        "    x = x*dw\n",
        "    w = w*dw\n",
        "    y = y*dh\n",
        "    h = h*dh\n",
        "\n",
        "    return (x,y,w,h)"
      ],
      "metadata": {
        "id": "2G9bk9mluQTy"
      },
      "execution_count": null,
      "outputs": []
    },
    {
      "cell_type": "markdown",
      "source": [
        "### image 경로 가져오기"
      ],
      "metadata": {
        "id": "Szm7ZyczPxKP"
      }
    },
    {
      "cell_type": "code",
      "source": [
        "new_list = {} #{img 번호 : 경로}\n",
        "path ='/content/drive/MyDrive/KDT/offline/mini_project4-object_detection/darknet/data/images/'\n",
        "file_list = glob.glob(path+'*.jpg') #모든 img파일을 넣어줌\n",
        "for temp in file_list:\n",
        "  img_name = temp.split('/')[-1]\n",
        "  number = img_name.split('.jpg')[0]\n",
        "  new_list[number] = path + img_name"
      ],
      "metadata": {
        "id": "StHsbGLvqBP0"
      },
      "execution_count": null,
      "outputs": []
    },
    {
      "cell_type": "markdown",
      "source": [
        "### 텍스트에 데이터 추가하기"
      ],
      "metadata": {
        "id": "c9Tr8jc3P6__"
      }
    },
    {
      "cell_type": "code",
      "source": [
        "for i in tqdm(range(1, 101)):\n",
        "    dir = f'D:\\\\Image_project\\\\UECFOOD100\\\\{i}\\\\bb_info.txt'\n",
        "    f = open(dir, 'r')\n",
        "    lines = f.readlines()\n",
        "    count = 0\n",
        "    for line in lines:\n",
        "        count += 1\n",
        "        if count == 1: continue  # 처음 img x1,y1,x2,y2 삭제\n",
        "        line = line.split(' ')  # list 화\n",
        "        file_name = new_txt[line[0]]\n",
        "        wr = open(file_name, 'a+')\n",
        "\n",
        "        # 사진불러오기\n",
        "        f = Image.open(new_list[line[0]])\n",
        "        # 사진 사이즈\n",
        "        size = f.size\n",
        "        f.close()\n",
        "\n",
        "        temp = line[:-1]\n",
        "        temp.append(line[-1].replace('\\n', ''))\n",
        "        x, y, w, h = convert_yolo_bbox(size, temp)\n",
        "        data = str(i-1) + ' ' + str(x) + ' ' + str(y) + ' ' + str(w) + ' ' + str(h) + '\\n'\n",
        "        # print(data+ \"이름\" +line[0])\n",
        "        wr.write(data)\n",
        "        wr.close()"
      ],
      "metadata": {
        "id": "PjI8AbQEQo0-"
      },
      "execution_count": null,
      "outputs": []
    }
  ]
}