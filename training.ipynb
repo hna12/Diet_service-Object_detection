{
  "nbformat": 4,
  "nbformat_minor": 0,
  "metadata": {
    "colab": {
      "provenance": [],
      "collapsed_sections": []
    },
    "kernelspec": {
      "name": "python3",
      "display_name": "Python 3"
    },
    "language_info": {
      "name": "python"
    }
  },
  "cells": [
    {
      "cell_type": "markdown",
      "source": [
        "#모델 학습\n",
        "이 부분 부터는 colab pro+에서 돌림\n",
        "\n",
        "5/9-mask detection 파일 참고"
      ],
      "metadata": {
        "id": "6wOJBbkqSw74"
      }
    },
    {
      "cell_type": "code",
      "source": [
        "#구글 드라이브 마운트\n",
        "from google.colab import drive\n",
        "drive.mount('/content/drive')"
      ],
      "metadata": {
        "id": "KefZMiLTSzwu"
      },
      "execution_count": null,
      "outputs": []
    },
    {
      "cell_type": "markdown",
      "source": [
        "1) 전처리된 이미지 파일 압축 풀기"
      ],
      "metadata": {
        "id": "f5cTsLxxTWRf"
      }
    },
    {
      "cell_type": "code",
      "source": [
        "%cd /content/drive/MyDrive/Image_project/Image"
      ],
      "metadata": {
        "id": "ozX6r4hKTZjJ"
      },
      "execution_count": null,
      "outputs": []
    },
    {
      "cell_type": "code",
      "source": [
        "!unzip -qq /content/drive/MyDrive/Image.zip"
      ],
      "metadata": {
        "id": "gyt6qIi3ThGw"
      },
      "execution_count": null,
      "outputs": []
    },
    {
      "cell_type": "markdown",
      "source": [
        "2)필요한 library import"
      ],
      "metadata": {
        "id": "nPloSkAJTltQ"
      }
    },
    {
      "cell_type": "code",
      "source": [
        "from IPython.display import display, Javascript, Image\n",
        "from google.colab.output import eval_js\n",
        "from google.colab.patches import cv2_imshow\n",
        "from base64 import b64decode, b64encode\n",
        "import cv2\n",
        "import numpy as np\n",
        "import PIL\n",
        "import io\n",
        "import html\n",
        "import time\n",
        "import os\n",
        "import matplotlib.pyplot as plt\n",
        "%matplotlib inline"
      ],
      "metadata": {
        "id": "XgJRkzt4TpIc"
      },
      "execution_count": null,
      "outputs": []
    },
    {
      "cell_type": "markdown",
      "source": [
        "3)다크넷 가져오기"
      ],
      "metadata": {
        "id": "PAZM6CfXTyAV"
      }
    },
    {
      "cell_type": "code",
      "source": [
        "# clone darknet repo\n",
        "!git clone https://github.com/AlexeyAB/darknet"
      ],
      "metadata": {
        "id": "5Q5XaJ9zT0sg"
      },
      "execution_count": null,
      "outputs": []
    },
    {
      "cell_type": "markdown",
      "source": [
        "4) classNames.names 파일 생성"
      ],
      "metadata": {
        "id": "T-jIFvY2UCvx"
      }
    },
    {
      "cell_type": "code",
      "source": [
        "f = open('/content/drive/MyDrive/Image_project/category.txt','r')\n",
        "lines = f.readlines()\n",
        "f.close() #lines에 class 이름들 들어있음\n",
        "data = []\n",
        "\n",
        "count = 0 #첫줄 안가져오는 방법-by 종헌\n",
        "f = open('/content/drive/MyDrive/darknet/data/ClassNames.names', 'w')\n",
        "for line in lines: #line -> id name\n",
        "  if count==0: \n",
        "    count+=1\n",
        "    continue\n",
        "  temp = line.split('\\t')[1].split('\\n')[0]+'\\n' #name만 갖고온후 \\n 해주기->rice만 가져옴\n",
        "  f.write(temp)\n",
        "f.close()"
      ],
      "metadata": {
        "id": "4LnQaqe6UGMw"
      },
      "execution_count": null,
      "outputs": []
    },
    {
      "cell_type": "markdown",
      "source": [
        "5)train, test, validation data 나누기\n",
        "\n",
        "- train:test:valid = 8:1:1\n",
        "- 계통추출법을 사용해 5의 배수는 validation으로 10의 배수는 test로 나눔"
      ],
      "metadata": {
        "id": "1BWl2IvzUOZC"
      }
    },
    {
      "cell_type": "code",
      "source": [
        "#각 이미지 경로 가져오기\n",
        "import glob\n",
        "dir = '/content/drive/MyDrive/Image_project/Image'\n",
        "file_list = glob.glob(dir+'/*.jpg')"
      ],
      "metadata": {
        "id": "qHnTNEfvUXLy"
      },
      "execution_count": null,
      "outputs": []
    },
    {
      "cell_type": "code",
      "source": [
        "train = []\n",
        "valid = []\n",
        "test = []\n",
        "for i in range(len(file_list)):\n",
        "  if i %10 ==0: \n",
        "    test.append(file_list[i])\n",
        "  elif i % 5 ==0:\n",
        "    valid.append(file_list[i])\n",
        "  else:\n",
        "    train.append(file_list[i])"
      ],
      "metadata": {
        "id": "qHd9777wUibU"
      },
      "execution_count": null,
      "outputs": []
    },
    {
      "cell_type": "markdown",
      "source": [
        "6)train,test,validation 경로 적기"
      ],
      "metadata": {
        "id": "9RSsd23ZZFsH"
      }
    },
    {
      "cell_type": "code",
      "source": [
        "# w 모드로 text 파일을 생성\n",
        "# test.txt 생성\n",
        "f = open('/content/drive/MyDrive/darknet/data/train.txt','w')\n",
        "for t1 in train:\n",
        "  f.write(t1+'\\n')\n",
        "f.close()\n",
        "\n",
        "# train.txt 생성\n",
        "f = open('/content/drive/MyDrive/darknet/data/test.txt','w')\n",
        "for t1 in test:\n",
        "  f.write(t1+'\\n')\n",
        "f.close()\n",
        "\n",
        "# valid.txt 생성\n",
        "f = open('/content/drive/MyDrive/darknet/data/valid.txt','w')\n",
        "for t1 in valid:\n",
        "  f.write(t1+'\\n')\n",
        "f.close()"
      ],
      "metadata": {
        "id": "m6tWXiZ7VGCU"
      },
      "execution_count": null,
      "outputs": []
    },
    {
      "cell_type": "markdown",
      "source": [
        "7)mask_data.data 파일 생성"
      ],
      "metadata": {
        "id": "Nx_0zH99Uknj"
      }
    },
    {
      "cell_type": "code",
      "source": [
        "t = open('/content/drive/MyDrive/darknet/data/mask_data.data', 'w')\n",
        "# mask_data.data에 기록\n",
        "# 클래스 개수 입력\n",
        "t.write(\"classes = 100\\n\")\n",
        "# mask_data.data train,valid,test 경로입력\n",
        "t.write(\"train = /content/drive/MyDrive/darknet/data/train.txt\\n\")\n",
        "t.write(\"test = /content/drive/MyDrive/darknet/data/test.txt\\n\")\n",
        "t.write(\"valid = /content/drive/MyDrive/darknet/data/valid.txt\\n\")\n",
        "\n",
        "# class 이름 값 기록\n",
        "t.write(\"names = /content/drive/MyDrive/darknet/data/ClassNames.names\\n\")\n",
        "t.write(\"backup = /content/drive/MyDrive/darknet/backup/\")\n",
        "t.close()"
      ],
      "metadata": {
        "id": "yunrsjMxZR_3"
      },
      "execution_count": null,
      "outputs": []
    },
    {
      "cell_type": "markdown",
      "source": [
        "![image.png](data:image/png;base64,iVBORw0KGgoAAAANSUhEUgAABE8AAADpCAYAAADVqBn3AAAAAXNSR0IArs4c6QAAAARnQU1BAACxjwv8YQUAAAAJcEhZcwAAEnQAABJ0Ad5mH3gAADb5SURBVHhe7d13jCzLVcfxvjY55yU+WHIGAQKDl2TyBYQBC0SSLCEhIRCIIMQ/SBf+gX/IiCQQjwwSCBN0ETmIRwaTMUs2sOAlJ5O58GvPea9ct6r6VHd1nO9HKu1u9+lzqqp7ZndKPbN3nvKUpzzoAAAAAAAAkPSk01cAAAAAAAAksHgCAAAAAABQwOIJAAAAAABAAYsnAAAAAAAABSyeAAAAAAAAFLB4AgAAAAAAUMDiCQAAAAAAQAGLJwAAAAAAAAUsngAAAAAAABTcuby8fHD6HgAAAAAAAJF+8eTi4uL0IwAAAAAAAEK8bQcAAAAAAKCAxRMAAAAAAIACFk8AAAAAAAAKWDwBAAAAAAAoYPEEAAAAAACggMUTAAAAAACAAhZPAAAAAAAAClg8AQAAAAAAKGDxBAAAAAAAoIDFEwAAAAAAgAIWTwAAAAAAAApYPAEAAAAAAChg8QQAAAAAAKCAxRMAAAAAAIACFk8AAAAAAAAKWDwBAAAAAAAoePIrvuIr3nuZl3mZ0494+tOf3n3SJ31S95SnPKV7znOe0/3Lv/zLaU977/7u79592qd9Wvde7/Ve3Z/92Z91f/M3f3Pas12f8Amf0D3zmc/s3vqt37p77LHHTlv34Q3e4A26//zP/+z+67/+67Ql7aVf+qW7Rx55pPv7v//70xYAAAAAwDnjzpPIi73Yi3Uv9VIv1b3kS75k9+QnP/m0dR6qpTov8RIvMarWM57xjO5zPudzuo//+I8/bZnfi7/4i/fzoz6PsUafRQsnX/zFX9w3LY7kaJ/F6RgAAAAAAFg82bHXeI3X6F7v9V6ve+3Xfu3Tlu1bq89/9Vd/1TdbREktoNjCiWIsHgAAAACAzS2evPIrv3L/4jqmOx7e6I3eqP9aomNf67Ve6/RT2pOe9KT+BfLLvuzLnrYso7auxpGaixqarzd+4zcePVYdpz6r7x6e+R8ytc8p//qv/9q/ReoP//APkwso4cKJYhSrYwAAAAAAuHN5efng4uLi9OOy3vRN3/Txt2/84A/+YPe0pz2te/VXf/Xuzp07/QvX7//+7+9+67d+q/+Mjdd//dfvX8D/7//+b/d7v/d73dd8zdd0//zP/9wf+zqv8zrdx3zMx/Qx9vaX//7v/+5+8zd/s/vO7/zO7q//+q/7bXph/FEf9VHd677u6z6+GKAcP/ETP9HXUu6P+IiP6N7v/d6v+9u//dvuS7/0S7u/+Iu/6GN1nD4HRTE//uM/3n3v935vf7zHq77qq3Yf93Ef173Jm7xJ9yIv8iLdgwcP+rsafvZnf7b7wA/8wD7nV3/1V3e//du/3cd+5Ed+ZPcWb/EW/dt6RPv/6I/+qPuWb/mW/rNR9FkpH/qhH9q/deZFX/RFu//5n//p/uM//qP793//9+7rv/7r+89qubq66j7kQz6ke4VXeIXsWEve/u3fvvuwD/uw7tVe7dX641XjN37jN7rnP//53VOf+tTuuc99bve5n/u5faxn/pfos0dqkURYOAEAAAAA5Kz6gbFatNGChD5DQ3eV6EWzXlDrBbjuPtCL8Xd8x3fsXvM1X7P/kE+9eNbiw6u8yqv0nxWiF/Nv+ZZv2X/Aq8Xc3Nz0HwqqF8naphzPfvazu5d/+ZfvPvETP7F/oa/9itMihu5u0F0OqqkX8Fq0eMM3fMPu3/7t37pf+IVf6F9Ef/RHf3T3Hu/xHn3Mz/zMz3Tf9V3fdRrBMN2F8Smf8ind5eVlvyik2lo4UH/0Yl3j0c+//Mu/3Of/1E/91H4u1Le//Mu/7BcrND8as/r2u7/7u/0C09u8zdv0ixCihQZ9r2N+9Vd/tV+o0MKHjtPigxZqVEfnWWPV3GmhJkeLWB/7sR/bnw/l1AKH+q6xqB+q9Y//+I/dT/3UT7nnX3ekzNlnL/VRi1+6rjT/+vr+7//+LJwAAAAAALJWXTzRXQ3v8A7v0C+U6AX6137t13bf8A3f0N/t8eZv/ub9C3Dt050HX/AFX9D96I/+aP9iXHdn6K6MX/qlX+pfrOuF9T/90z91X/RFX9T98A//cB+nF/C600OLI7rzQS/63+md3qnfrjq6I0JxGrv+q4q+13/WCRdPlP+DP/iD+xf2epGvfnz7t3/7qfc+WhDQWPSiXX1TH3/gB36g76/uvNH4tE+LJ3/8x3/8+ALRV3zFV/R3W+iFvsaofr3cy71c/8L+/v37fQ7dQaOFFN0F8umf/un93Tsaq5re/qScX/ZlX9b99E//dF9b8frMEY35137t1/oxxjRfuovk/6+L7u/+7u+6r/u6r+vPyY/8yI/027QIooUUWzzRfwjyzP9P/uRPztbnWvECyiu90iuxcAIAAAAAyNrEZ55oYeLnf/7nu1//9V/vf9adCPZhnVo4+L7v+77+e92VojsvdKeGFh1094YWG77ne76nfxuPXpRrkeHN3uzNuj/4gz/oX+DbnSp6G47eSqLj3uVd3qV/Qa5jv+3bvq37qq/6qv4uj5AWCN73fd930sKJFgO0gKBceuH/3d/93Y+/9USLCWr2s9E2LUKonxqL2p/8yZ/0ixS6W0MLR0O0EPGVX/mV/QKB5kI5tEigudMc6O4O9S1Fd4eohhY/tHhj50Rzr0UULfCEvPM/ZEqfAQAAAACY0yYWT7QYorscQroLRLRoYN+LXtRrMSOku0O+5Eu+pPvsz/7s/m6Gz/zMz+y/150SWnDQXSp6Ef5zP/dzfbzudvm8z/u8/hi95UQv0mN6y8o7v/M798dr4eD6+vq0x0931ujOC73412eWxLTAoNwhLex84Rd+Yf/vfDUWNd11Y/+dxvMvglXzkz/5k/s8mgvl0Hzo81z01iA1e/tMTAsg2qe3zuhujJAWSuLFE/HM/5Apfa4Vf+6Jmr6PP0QWAAAAAADZxOLJFO/2bu/WfcAHfED/1hEtkOjtOM961rO63//933/org7dZaK7J2zRQm8Febu3e7vuMz7jM7r3eZ/3OUW9gF70a1FHiwi660Ef7KoX+DWUo0SLKuFCkN7Go8UC3VGju000Do1HH5qrRSMvfbjt277t2/Zj1IfSfuM3fmN/R8fznve8U0Se+qw7ZXI0J6Ga+S+Z0uca8cKJ3qqjxgIKAAAAACBn94snb/VWb9W/xUWfk2KfuaG3m2ihRJ/DEdOHzH7+539+f5eDvuq/1+h4/aeX8LNftLChz+5QHn0eiz5oVv8JpobeKqTP0NBdE7qjI6YX66pt9OGr9hksWuTRODSeL//yL+/f1uKhOvpcGC2AaBFC/8lGnx/yrd/6rf1nlMSLHzHd6aPPBNGCkd7aFNLCij6DJFQ7/ylT++yVWjjR+VFjAQUAAAAAkLP7xZMc3RGht94Y3Vmit4R81md91uOfG6IXy/q3x6IFgHDxRJ/XoRfyv/iLv9h/7ode2OsDZ/UvfL30uS1aVNCxequQPqDU6EW63qKjhZUh7/3e793/Z6KYFjpEb+XRmLS4kXtri+6a0X820meQhJ7xjGf0iwX6kFjRfGjRQ3eS6I6S8DNW9C+ctcjhEc+/adHnMXILJ4YFFAAAAABAzib+244WEH7nd37nhT4XRAsVuiNBCxBawDB6Yav/XqO3d+hfCevFt97uore66MNOdYfIB33QB/VvAdGihZpeEOvtH6ql/6yizzLR9+/5nu/ZfzCpcmjRQB8Kq5/Df1Wst+3oP8PoDgt9hof+/a7+I4z3bTSqq/7qWL1FSIsB+rfHWojQAoXoLhfl1IKN7j7Rf9XRh6bqXwOrj+/6ru/aLyBoLOF8aKz6N75aZNBihT7gVp8do4UgzZ0+J0X/HUf19V9/7E4Sq6c+ffiHf3hfT4szequQzoHqKK8+oFW1NVd625L6r7fi6HzZf9vRAoln/u3fDE/ts/cOnNgjjzzSLxTpTqN44cSE/4VHfXnsscf6u4AAAAAAAOdt93ee/NiP/Vj/9hq9uNaL7qc97Wnd5eVl/2L9H/7hH05RXb/goP+Wo8UQ3VGgWL2g1qLEc57znO6bvumbTpEP0wt21dGCiRZP9KLe60//9E+7b/7mb+7/m48WEvSiXIsiWvxRv/WWIKP/yKO3vDz/+c/v47TIosUULWjovw7FfuiHfqj7lV/5lf5tLfpQVjV9/x3f8R39YpDGpgUPLVLobThaDArfAqOct7e3/eeuaFFGCwuit97o3yFrgUGLGponLTopXjlC3vk3U/s8lt1tkls4MXYHit2FAgAAAADAnf9/ofsg9ZaQvdFdErqjQQsjz372s/vPG0nRXSa6e0WxuuNB/0UnF9uaFhd0Z4sWY/RWIC2gpOiuDN39ogUUfUaL3vpTonjdsaGFkHAsqqc8ehtOqZ7mLjUHWjjRXSVaPNECkz4ENsc7/2ZqnwEAAAAAWMphFk8AAAAAAADmwOLJCPrQWH1WR+mDTPU2Fr39RW9RAQAAAAAA+3XY/7YzJ33+h95eMtQUBwAAAAAA9o07T0awz+vQ56fk6L/S/Pmf/3n/AbUAAAAAAGC/WDwBAAAAAAAo4G07AAAAAAAABSyeAAAAAAAAFLB4AgAAAAAAUMDiCQAAAAAAQAGLJwAAAAAAAAUsngAAAAAAABSweAIAAAAAAFDA4gkAAAAAAEABiycAAAAAAAAFLJ4AAAAAAAAU3Lm8vHxwcXFx+nGa5z71WafvgPP0yGNPP30HAAAAADgK7jwBAAAAAAAoaHrnCQAAAAAAwNEMLp4873nPO30HAAAAAABwfgYXT25ubk7fAQAAAMD5urq66q6vr7vb29vTFgDngs88AQAAAAAAKGDxBAAAAAAAoIDFEwAAAAAAgAIWTwAAAAAAAApYPAEAAAAAAChg8QQAAAAAAKBg9cWTe/funb5bzv3790/fYU6eeVaMtRJvHAAAAAAArXHnCVajhZC7d+8+3nILI944AAAAAADmsNriie44WeOuE8xPixsscAAAAAAAjuLO5eXlg4uLi9OPD7u5uTl9N49Wiyjhi3XdnVBidzKUePKlFghSsd44aVl3bepnaQy5uQq3e+MAAACAuV1dXXXX19fd7e3taQuAc3GIt+3YC2lr+nkKT744JhfrjZM41hNTivXQcaUGAAAAAMC52/3iiV7ga/EgNHUxoWU+r7XqqkapAQAAAABw7g77gbFjX/hPXTDwHt96YYKFDgAAAAAA5sF/28nQHR9hi2mxIrcv5I0TiwtbrCYfAAAAAACYjsWTBC1MaJEibCm2zxYzcgsatXFxi9n2oXweYY5UAwAAAADg3LF4EtGCQWrBosQWM2xBI8cb59UiX5gj1QAAAAAAOHeHXTyZ+64Jb/6p/YiPn3tcS9HCTGps8YKNNw4AAAAAgLnsfvGk9YvrXL65sUgAAAAAAMA23bm8vHxwcXFx+vFhNzc3p+/mce/evb5NFS48DC04eBYlUvni48IYk8rrjZNU3VhNvjXF85XiGa944wAAAIC5XF1dddfX193t7e1pC4BzsfriCQAAAADsAYsnwPniA2MBAAAAAAAKWDwBAAAAAAAoYPEEAAAAAACggMUTAAAAAACAAhZPAAAAAAAAClg8AQAAAAAAKGDxBAAAAAAAoIDFEwAAAAAAgAIWTwAAAAAAAApYPAEAAAAAAChg8QQAAAAAAKCAxRMk3b9///Qdxji3+eN6mWbr88f5nYb5A3A0PK9Nc5T54zrAuVl18eTevXuPtz3jiQNjtbh2tnj95fo0tq86Lm6ttMzVSq5P8Xabi7ClpOKsLcVbrybOwxu3da3HwbwsR31cop9jahzlOggdcUyxPY1x7r4e/Xyfw/XcGnOGOa22eBIunLRYQOGB0o7m8u7du6eftmGt8zum7hbnb05LjVc1wrbWNdGad/5yceGcqKXmJdyf+rmkxfm1HEN5vHF70mL+sC2pxxj8tj5/a/VvT9cVz2tPGHPelpy/Oa+r0jjmrLtFrcd7bvO3J6ssnqQWS1osoKyFXyBY01avv/iJv/UvAo27Rc49PH41Tm8/W83LUezh/Hq0Hgfzsoyax+4ajnIdnBvOG5DH4wNzOqvPPLEXFPoatpSh/aFSjO0L85Xit847hqE42x7G5WJrDOWy7WFcLnYOnpq2L4z1xKfk9pW2W1tCbf887Fgbh7WcMftK2621olxb/UNgjvG2Vuqb7QvHMRQ/FONhx4d5hnKW9of5wlYytN/DcnhqpmJz8UP7Q94YTz5v3Fq8/fPGiTfGk88b15q3rjfOy5vPG1fDk2uorm0P43KxNby5PHG2L4wtxYfiOPs5zBPHhDwxc/DW9cZ5tc7nYbXC2rn6Q/tDpRjbF+YrxbeSq7FEbbR15/Ly8sHFxcXpx4fd3Nycvpvf2LtP4gsv90LD4oZeiCgujIl/jpX252oO5cyxfDljcoaGxhLuy8V64rRNUttzsSZVU9aqG0rlMfG+Ul/EU09qaprU9nhbKa8p5Zc4n3hqxNu9cZKqU5LLLbV1w22lvGYo/1COoeNThnKGavKU+hIq5QsN9bHUt1ApzmrG+1PHxNs89XMxYd34+1zOoX0S7x+bzytVN5c318dYfPxQP2v35+Jr4kLe2rl8Xp7+Wd+G4kK1+3PxNXGhUm2PVF2J87buX02+lnVNLo/x1LWaqe01uUOpujJUI5czd3wodWxum3hjw23xz1dXV9319XX36KOPnra8QJwnJVXPpOpKHD/UP2PHm5q6uVhTiqmpK7W1hvrn6Vu8fyhnieU0qTy5/KntnnxYz2buPJnyth27qPR16AIb2p+6iPVzfCHXGKpZQ7lKbS7eeamZP29/LU5fc8esVdcr17+cqfVq1cyfV3h8Kv+cjjB/lnNKjrnUjNfi9DU+JuSNa81Tq2a8XmG+FuNtkWOMmnkZ6mPrefbmq6lrcfoaHzOXMf0zuTgPb90x/dPX+Jhaubqx1v3z5mtd12tM3RZydWM1/ZPaPqbyG0+umv5ZnL56cpfk6sZa968mn5enrhnaP2f/WrF8+prLnepzamziyYf1bGLxZMrCSWvnfJHmHsQlPKifMGb+5qb+eJ+sa7XIM2f/Wlhz/taegy2dhz1i/vZvyvnznH/FlNrecf2n7XledF1O7f+c42/Rvzltcf7G5Ftynrd8PmtpLPbcvvVrFXmrLp7YoslWFk5CuqjDhu2LzxnnrQ7zN81c8xf+ssV64nPLOdmHLZ83PbZLbQu2PH81Wo+jdb5z1Hr+lKPV4ybum9rWtO5f63ytbb1/XrpG1f+tPMej3mqLJ1tfOLE/XqxtRfjEkWrnLD5n1uCTmju1uamGXbv6ukTNOYRzFjYcQ+rcqmHbUudMbU57fh6LxfNmbW9SY1AbK5VLDT72GGk1d63//o37Zm0r5pi/lvla23r/cF5WWTzZ6qKJ2AN0q+Inj7iNtfVxb92W50/9Uv+kVT+9eaz2VufGY835M2EflrD3c7Y25g+6BsIWbgP2SNfuGr//PJRPbcuPr63OX22+Oc5fydL15mbj0Vfs02Y+MBb7tPUHP09O0yw1f/aL5Ei/IIXr79g4v/vkPW9jz6+ex+IWbt+7uedvKa37d5R52TM9vuaaX84bptI1FP4+4JraJxZPIqmL+egXd/hgzsnNS3ycN661teqKp06uf0ux+rl+5vqXii/lWdKS/bD5ydWz/aHW85eqkTI2v/Ecn+rL1LpbVjPeI89DSsvroGaePbz5WtdtraZ/LcfhrVvTv5ZydWOt++fN17qu1xx1Pcfn6sa8cWOl8tfI9W9o/CWe473z4o3zqsmn7VPmYYzW4x2jRb3U3KXGhu3bxGeehG0suwBbXIRhLjX9zAWenpcUb1yNMGfOWnW95uhfS3P1r1WesG8t+9fKXPM3JKy5ZN21xruWcxuvV+t5WStfTd0wdilzjMNjjrph7FRr9W+tul41dVvy1k3F2bYWpuZK9S8njJ3KWzcVZ9tiYWxOTT4vT12vOfrXWsvxSut8aOfO5eXlg4uLi9OPD7u5uTl9h6PSA1MPUoxzbvM3x3jPaQ63PlaeD6bhWl4W1+s0zB88uE5e2NXVVXd9fd3d3t6etpQdZf64DgAWTwCsSL+IhV/GwP6s+Yc0zx3TMH/AeLWLJwCOg8UTAAAAAHBg8QQ4X3xgLAAAAAAAQAGLJwAAAAAAAAUsngAAAAAAABSweAIAAAAAAFDA4gkAAAAAAEABiycAAAAAAAAFLJ4AAAAAAAAUsHgCAAAAAABQwOIJAAAAAABAAYsnSLp///7pO4xxbvPH9TLN1ueP8zsN8wfgaHhem+Yo88d1gHOz6uLJvXv3Hm9b5H1CGPPEwZMNpMV1sMVrKdensX3VcXFrpWWuVnJ9irfbXIQtJRVnbSneejVxHt64rWs9DuZlOerjEv0cU+Mo10HoiGOK7WmMc/f16Of7HK5nL+9cjJkz5hleqy2ehAsnW15AOUd6Arl79+7pp21Y60lt7BPw1uZvTkuNVzXCttY10Zp3/nJx4ZyopeYl3J/6uaTF+bUcQ3m8cXvSYv6wLanHGPy2Pn9r9W9P1xXPa08Yc96WnL85ryuugye0nuc5zxumWWXxJLVYsucFFJ44sKatXn/xE3/rXwQad4uce3j8apzefraal6PYw/n1aD0O5mUZNY/dNRzlOjg3nDcgj8cH5rT7zzzJvUgobbfWiifXHHXX4B3HUJxtD+NysTWGctn2MC4XOwdPTdsXxnriU3L7StutLaG2fx52rI3DWs6YfaXt1lpRrq3+ITDHeFsr9c32heMYih+K8bDjwzxDOUv7w3xhKxna72E5PDVTsbn4of0hb4wnnzduLd7+eePEG+PJ541rzVvXG+flzeeNq+HJNVTXtodxudga3lyeONsXxpbiQ3Gc/RzmiWNCnpg5eOt647xa5csdX9reom7Ik2uOuiW5OkvVRzur3XmyBl2gehFibckHTKu6OrbUplIO9THF9g2NY2xcLta26Wsul8T5crFxXC7WtulrLlfMcqfYvlJNE8eqza2mf8aO2ZqjzN/a81uq7x2vbdfXXIx441pTrXAcubHEcZ4+2jEptk9fw+/Hshxhm5LPK65bqpnqY6wmn4c3X02cfc3FGMvZguXy9M8T59W6rm3X11xMjZq63jj7mouRmnzeOPuai6lRUzeMK8UaOyZlbN1SzThWbYgdE0vlStWO41IxYtv1NRcTs9wpts9T1xtnX3Mx4s0XsmOmGFO3hdZ17Xh9bTGG1vnQ1mbuPJn7bTu6+PQACS3xQM3VHUvHltpcvPNXM8/e/lqcvuaOWauuV65/OVPr1aqZP6/w+FT+OR1h/iznlBxzqRmvxelrfEzIG9eap1bNeL3CfC3G2yLHGDXzMtTH1vPszVdT1+L0NT5mLmP6Z3JxHt66Y/qnr/ExtXJ1Y637583Xuq7XmLot5OrGavontX1M5TeeXDX9szh99eQuydWNte5fTb6WtlZ3CjteX3O5tD0eW6ov4smH9ay6eGILJlMWTrwXIxffsNyDuIR5fcKY+Zub+uN5fIzRIs+c/Wthzflbew62dB72iPnbvynnz3P+FVNqe8f1n7bnedF1ObX/c46/Rf/mtMX5G5OvNA5tj5+/UvGtx7EH4dy0uBawjt0vntTSxRo2HEd8bjm/dZi/aeaav9QfIlhefG45J/uw5fOmx3apbcGW569G63G0zneOWs+fcrR63MR9U9ua1v1rnc9rrbpr0TWqcW7lOR71zuZtO2IXa9j2JnyCSbVzFp9ba/BJzZ3a3FTDrl19XaLmHMI5CxuOIXVu1bBtqXOmNqc9P4/F4nmztjepMaiNlcqlBh97jLSau9Z//8Z9s7YVc8xfy3xea9UFpjjEB8bqwWZPnPZAjOW27409ueTaWEeZn7Vsef7Ur6HHRy1vHqu91bnxWHP+TNiHJez9nK2N+YOugbCF24A90rW7xu8/D+VT2/Lja6vzV5vPEx+ei1x863HshY3b5gf7s5k7T7BPW3/w8+Q0zVLzZ79IjvaLlOvv2Di/++Q9b2PPr57H4hZu37u5528prft3lHnZMz2+5ppfzhum0jUU/j7gmtqn1e48ie8+mfq2HbsIc3+YpC7SJS7aterWKM2byY0jPs4b19padcVTJ9e/pVj9XD9z/UvFl/Isacl+2Pzk6tn+UOv5S9VIGZvfeI5P9WVq3S2rGe+R5yGl5XVQM88e3nyt67ZW07+W4/DWrelfS7m6sdb98+ZrXddrjrqe43N1Y964sVL5a+T6NzT+Es/x3nnxxnnV5NN27zxY3lx863F4janbol/KEc9Fqi/YvtXuPLHFkrDNzS5Sa/p5iQs3VXePvOOYY7xhzpy16nrN0b+W5upfqzxh31r2r5W55m9IWHPJumuNdy3nNl6v1vOyVr6aumHsUuYYh8ccdcPYqdbq31p1vWrqtuStm4qzbS1MzZXqX04YO5W3birOtsXC2JyafC1tqe5UYc4WWudDO3cuLy8fXFxcnH582M3Nzek7HFWrJ45zdW7zN8d4z2kOtz5Wng+m4VpeFtfrNMwfPLhOXtjV1VV3fX3d3d7enraUHWX+uA4AFk8ArEi/iIVfxsD+rPmHNM8d0zB/wHi1iycAjoPFEwAAAABwYPEEOF/8tx0AAAAAAIACFk8AAAAAAAAKWDwBAAAAAAAoYPEEAAAAAACggMUTAAAAAACAAhZPAAAAAAAAClg8AQAAAAAAKGDxBAAAAAAAoIDFEwAAAAAAgAIWT87M/fv3T99hjHObP66XabY+f5zfaZg/AEfD89o0R5k/rgMgbROLJ/fu3esbcBQtfuls8RdXrk9j+6rj4tZKy1yt5PoUb7e5CFtKKs7aUrz1auI8vHFb13oczMty1Mcl+jmmxlGug9ARxxTb0xjn7uvRz/c5XM/AER3mzpO1noT29ovu7t27p5+2YU/nbYvzN6elxqsaYVvrmmjNO3+5uHBO1FLzEu5P/VzS4vxajqE83rg9aTF/2JbUYwx+W5+/tfq3p+uK57UnjDlvS87fnNdVaRxz1i1pXXfr+bBdqy+ecNcJkLbVP2DiXxCtf2Fo3C1y7uEPQI3T289W83IUezi/Hq3Hwbwso+axu4ajXAfnhvMGANt2dp95oj94rOWEMUOxR+Ed61CcbQ/jcrE1hnLZ9jAuFzsHT03bF8Z64lNy+0rbrS2htn8edqyNw1rOmH2l7dZaUa6t/qE8x3hbK/XN9oXjGIofivGw48M8QzlL+8N8YSsZ2u9hOTw1U7G5+KH9IW+MJ583bi3e/nnjxBvjyeeNa81b1xvn5c3njavhyTVU17aHcbnYGt5cnjjbF8aW4kNxnP0c5oljQp6YOXjreuO8Wufz8tQNY4Zil5bry5b6iHXcuby8fHBxcXH68WE3Nzen79oL7zqZcgdKfCHnXpAoLtwX/yypbZKLDeXqesS5YlNyS25cEu/LxXritE1S23OxJlVT1qobSuUx8b5SX8RTT2pqmtT2eFsprynllzifeGrE271xkqpTkssttXXDbaW8Zij/UI6h41OGcoZq8pT6EirlCw31sdS3UCnOasb7U8fE2zz1czFh3fj7XM6hfRLvH5vPK1U3lzfXx1h8/FA/a/fn4mviQt7auXxenv5Z34biQrX7c/E1caFSbY9UXYnztu5fTb6WdU0uj/HUtZqp7TW5Q6m6MlQjlzN3fCh1bG6beGPDbakYsZwmjrm6uuqur6+729vb05Z8LknVlTg+FZfKacebmrq5WFOKaVk3VycXG8rV9fLkW7N/2LZD3HliF6m+5i7Y1MWun+MLvoanrpflyLW5eOelZv68/bU4fc0ds1Zdr1z/cqbWq1Uzf17h8an8czrC/FnOKTnmUjNei9PX+JiQN641T62a8XqF+VqMt0WOMWrmZaiPrefZm6+mrsXpa3zMXMb0z+TiPLx1x/RPX+NjauXqxlr3z5uvdV2vMXVbyNWN1fRPavuYym88uWr6Z3H66sldkqsba92/mnxeW65bw5NP2+M+p8Ymnnw4jtUWT6bcabKGPT8Ycg/2Eh78Txgzf3NTf7xP6rVa5Jmzfy2sOX9rz8GWzsMeMX/7N+X8ec6/Ykpt77j+0/Y8L7oup/Z/zvG36N+ctjh/Y/JtYZ63dJ7VF3vO3vo1iOWc1Wee6MKPW8weKKl9WEd4vjg39Zi/aeaav/CXMtYTn1vOyT5s+bzpsV1qW7Dl+avRehyt852j1vOnHK0eN3Hf1Lamdf9a5/OIa6bq6pzm9m2J9XMrz91Y3yqLJ2vddaILP9Vitt0e1Es8sMNaqXbOwnMVNvik5k5tbqph166+LlFzDuGchQ3HkDq3ati21DlTm9Oen8di8bxZ25vUGNTGSuVSg489RlrNXeu/f+O+WduKOeavZT6vuKa1mG1XP60BW7f623bChZTw+y0IH/BzP6DDWqk2lj1xYpwtz5/6Zddlq35681jtrc6Nx5rzZ8I+LGHv52xtzB90DYQt3Abska7dNX7/eSif2pYfX1udv9p8c5w/L9W1trVzbfOytX5hPaveeRK2cPuS4gcDD44X2Po8cJ6mWWr+7BeOvh4J19+xcX73yXvexp5f++M+bOH2vZt7/pbSun9HmZc90+NrrvnlvC0jnuc9zLv6GD7Pc61AzuYzT1IXffigOCLP+Lzzstb8rVVXPHVy/VuK1c/1M9e/VHwpz5KW7IfNT66e7Q+1nr9UjZSx+Y3n+FRfptbdsprxHnkeUlpeBzXz7OHN17puazX9azkOb92a/rWUqxtr3T9vvtZ1veao6zk+VzfmjRsrlb9Grn9D4y/xHO+dF2+cV00+bZ8yD6Fc3Vb5PXLjrJHqc2psOD+HWTyxC7p0UYcxaqkHchxTihVP3a3zzIt442p45m+tul5z9K+lufrXKk/Yt5b9a2Wu+RsS1lyy7lrjXcu5jder9bysla+mbhi7lDnG4TFH3TB2qrX6t1Zdr5q6LXnrpuJsWwtTc6X6lxPGTuWtm4qzbbEwNqcmn9fYurE4phQrnro1tp4P23Xn8vLywcXFxenHh93c3Jy+w97oAZx7EsKwc5u/OcZ7TnO49bHyfDAN1/KyuF6nYf7gwXUyztXVVXd9fd09+uijh5g/rgPAj8UTAM3pF7HwyxjYnzX/kOa5YxrmD5ifLZ7c3t6etgA4FyyeAAAAAIADiyfA+TqbD4wFAAAAAAAYg8UTAAAAAACAAhZPAAAAAAAAClg8AQAAAAAAKGDxBAAAAAAAoIDFEwAAAAAAgAIWTwAAAAAAAApYPAEAAAAAAChg8QQAAAAAAKCAxRMAAAAAAIACFk+QdP/+/dN3GOPc5o/rZZqtzx/ndxrmD8DR8Lw2zVHmj+sA52aVxZN79+5lG3BOWvzS2eIvrlyfxvZVx8WtlZa5Wsn1Kd5ucxG2lFSctaV469XEeXjjtq71OJiX5aiPS/RzTI2jXAehI44ptqcxzt3Xo5/vvY5P/bY2ZItjzPVpi33Fsla78yS1cKKG9emJ4e7du6eftmGtJ6sxdbc4f3NaaryqEba1ronWvPOXiwvnRC01L+H+1M8lLc6v5RjK443bkxbzh21JPcbgt/X5W6t/e7queF57wpjztuT8zXld5cZh263N2Yc57bXfmBdv2wF2bqlfwLXiXzqtfwm1+oW81fkLaZzefu75D5U57OH8erQeB/OyjJrH7hqOch2cG84btir1nKef+bsER7H7xRN7MOpr2HKGYmx7uD8XK5bLGzMUu3XeMQzF2fYwLhdbYyiXbQ/jcrFz8NS0fWGsJz4lt6+03doSavvnYcfaOKzljNlX2m6tFeXa6h/Kc4y3tVLfbF84jqH4oRgPOz7MM5SztD/MF7aSof0elsNTMxWbix/aH/LGePJ549bi7Z83TrwxnnzeuNa8db1xXt583rganlxDdW17GJeLreHN5YmzfWFsKT4Ux9nPYZ44JuSJmYO3rjfOq3W+1jz9C2NKsd64mkWfoVy2PdyfixXL5Y0Zih1ix3rzDcXY9nB/LlYslzdmKHZOdy4vLx9cXFycfnzYzc3N6bt2Um/TGfuWHZu4+MWFtg9ty8VI+ICx78fmi7dJbvsQHVcyJmeo1K94n3dsqThtk9T2XKxJ1ZS16oZSeUy8r9QX8dSTmpomtT3eVsprSvklzieeGvF2b5yk6pTkcktt3XBbKa8Zyj+UY+j4lKGcoZo8pb6ESvlCQ30s9S1UirOa8f7UMfE2T/1cTFg3/j6Xc2ifxPvH5vNK1c3lzfUxFh8/1M/a/bn4mriQt3Yun5enf9a3obhQ7f5cfE1cqFTbI1VX4ryt+1eTr2Vdk8tjPHWtZmp7Te5Qqq4M1cjlzB0fSh2b2ybe2HBb/PPV1VV3fX3dPfroo6ctLxDnSUnVM6m6EscP9c/Y8aambi7WlGoOHRsbOsbTP29/auM8x3tjxHKG34/NF2+T3PYhOk48deJtuRjR9vj7sfnibZLbPqdNfebJWJ5JS02uftb2WBiXy12TryXVKLW5eMdbMy/e/lqcvuaOWauuV65/OVPr1aqZP6/w+FT+OR1h/iznlBxzqRmvxelrfEzIG9eap1bNeL3CfC3G2yLHGDXzMtTH1vPszVdT1+L0NT5mLmP6Z3JxHt66Y/qnr/ExtXJ1Y637583Xuq7XmLot5OrGavontX1M5TeeXDX9szh99eQuydWNte5fTb41rN2/oVo1/Qvj4mPMmuPN9Sl0pPGOteriSWjqAsqQ3Elby9b6I6kLeMgWx7GWMfM3N/UnfgJq1c8WeebsXwtrzt/ac7Cl87BHzN/+TTl/nvOvmFLbO67/tD3Pi67Lqf2fc/wt+jenLc7fmHxLzvNS8zW2zlLz4DV3f85tvCmrLJ7MuUgyRA/4sE0R50rl00nN7UNb4Xlgzusxf9PMNX/2HIJ1xeeWc7IPWz5vemyX2hZsef5qtB5H63znqPX8KUerx03cN7Wtad2/1vlaG+qfzn1uX8gbF7JjSixnbe6UOFcq35hxtBT2bWof4lypfGuPN3RW/21HE67JD9sUcS5rMdtuJ33KiQ9zpNo5C89B2OCTmju1uamGXbv6ukTNOYRzFjYcQ+rcqmHbUudMbU57fh6LxfNmbW9SY1AbK5VLDT72GGk1d63//o37Zm0r5pi/lvla8/bP9ineWoo3zkvHW05rU8S5rMVse6txeJ3beGNnc+eJneg12Um3Ez9GmCPVxtrC/OzZludP/bLrrVU/vXms9lbnxmPN+TNhH5aw93O2NuYPugbCFm4D9kjX7hq//zyUT23Lj6+tzl9tvrH1x56bMfUUb61U1xsnuZgx/WutZhxTndt4U87qzpMlxCdxjZO6pK2P7+jzP7el5s+eANd+Qm6N6+/YOL/75D1vY89v+IedtXD73s09f0tp3b+jzMue6fE11/xy3rbt6I+/uN9Hvx63PN7V7jyJ7z5JbWsp9YQ65UTk8u3xDyNPv73jXWte1qornjq5/i3F6uf6metfKr6UZ0lL9sPmJ1fP9odaz1+qRsrY/MZzfKovU+tuWc14jzwPKS2vg5p59vDma123tZr+tRyHt25N/1rK1Y217p83X+u6XnPU9Ryfqxvzxo2Vyl8j17+h8Zd4jvfOizfOqyafto8dx9BxOa3HO0VqDK3713r+Qi3mbU/jncudy8vLBxcXF6cfH3Zzc3P6rr1wsWTswklugkvbje0PYz3fh1L5YmGMycWuITe2FM94ZSguV7PUF8u5tbqlY2Nx/1LH1uQTb7wnLu5fijdPKqZ07NC+2JT+hbzxnriwn1P6l4uJt4f1zNjcxtM/E9ZvkbO29tScuX2l7aY2ZyiMyX0fG7NvbD4vy6GvpkU9Tz7jyevNV1tXasbkjc0Z6p/VqB2HJ8aUYmvrylCcR1w3N6bW/fPma11XFOfNJanYXI7Udk89E9ct1TG2P4711C3l9+QqbTfx/qurq+76+rq7vb3tf7bYVB7J1UiJ69b0byi21AdPvlz+lFS+HE9eb/9iqbyeuFyfStuN7Q9jPd+HUvliYYzJxUqulpT64e1fGOv5PpTKFwtjTC52TqsunmAbchcyfM5t/uYY7znN4dbHyvPBNFzLy+J6nYb5gwfXyQuLF0+GHGX+uA4AFk8ArEi/iIVfxsD+rPmHNM8d0zB/wHi1iycAjoPFEwAAAABwYPEEOF/8tx0AAAAAAIACFk8AAAAAAAAKWDwBAAAAAAAoYPEEAAAAAACggMUTAAAAAACAAhZPAAAAAAAAClg8AQAAAAAAKGDxBAAAAAAAoIDFEwAAAAAAgAIWTzDJ/fv3T99hjHObP66XabY+f5zfaZg/AEfD89o0zF8a84K1rLp4cu/evcfbWGs9eHjQYkktrrctXrO5Po3tq46LWystc7WS61O83eYibCmpOGtL8darifPwxm1d63EwL8tRH5fo55gaR7kOQkccU2xPY5y7r0c532uN4xweL4DHaosn4cLJ1AUUrENPpHfv3j39tA17+qWyxfmb01LjVY2wrXVNtOadv1xcOCdqqXkJ96d+Lmlxfi3HUB5v3J60mD9sS+oxBr+tz99a/dvTdcXz2hPGnDfmL415wZpWWTxJLZawgALMa6u/aOI/KMb8gVGicbfIuYdf1DV/ULSal6PYw/n1aD0O5mUZNY/dNRzlOjg3nDcAaGtTn3kyZfFEf3hYK2kdF4vjc8fn4vTV2p55xzEUZ9vDuFxsjaFctj2My8XOwVPT9oWxnviU3L7SdmtLqO2fhx1r47CWM2Zfabu1VpRrq38ozzHe1kp9s33hOIbih2I87Pgwz1DO0v4wX9hKhvZ7WA5PzVRsLn5of8gb48nnjVuLt3/eOPHGePJ541rz1vXGeXnzeeNqeHIN1bXtYVwutoY3lyfO9oWxpfhQHGc/h3nimJAnZg7euq3jYnF87vhcnL5aA/bgzuXl5YOLi4vTjw+7ubk5fddOy7tM7MEWvmjQttSLiHj7lLgp2yRVQ+JtqWM9LF/O2Lym1LfU2FKxnjhtk9T2XKxJ1ZS16oZSeUy8r9QX8dSTmpomtT3eVsprSvklzieeGvF2b5yk6pTkcktt3XBbKa8Zyj+UY+j4lKGcoZo8pb6ESvlCQ30s9S1UirOa8f7UMfE2T/1cTFg3/j6Xc2ifxPvH5vNK1c3lzfUxFh8/1M/a/bn4mriQt3Yun5enf9a3obhQ7f5cfE1cqFTbI1VX4ryt+1eTr2Vdk8tjPHWtZmp7Te5Qqq4M1cjlzB0fSh2b2yal2Kurq+76+rp79NFHXygulU8sp0nFxIZyeeu2ipuyTVI1JN6WOjbkiQHmtPsPjJX4QaSf7UFpUg+2KXGx1HG1xtTN0bGlNhfv/HnjxNtfi9PX3DFr1fXK9S9nar1aNfPnFR6fyj+nI8yf5ZySYy4147U4fY2PCXnjWvPUqhmvV5ivxXhb5BijZl6G+th6nr35aupanL7Gx8xlTP9MLs7DW3dM//Q1PqZWrm6sdf+8+VrX9RpTt4Vc3VhN/6S2j6n8xpMrXjiRXP8sTl89uYd46nrnzxsXSx1Xa0xdYG1n84GxrR/goRZPIHsyZrznND9Dtni9qD/xL6xW/WyRZ87+tbDm/K09B1s6D3vE/O3flPPnOf+KKbW94/pP2/O86Lqc2v85x9+if3PawvyVjl9r/rZ+3nAeVl08CS2xgCJ64IVtKh7I+xNfA2rwY/6mmWv+9DzUKhfGi88t52Qftnze9NgutS3Y8vzVaD2O1vnOUev5U45Wj5u4b2pb07p/yrGV5x1gDZv6wNi52QM+bFO0eBKaiz1J5to5i68Ba/BJzZ3a3FTDrl19XaLmHMI5CxuOIXVu1bBtqXOmNqc9P4/F4nmztjepMaiNlcqlBh97jLSau9Z//8Z9s7YVW58/YI/OZvFkjj9S7Iloi08m1rdcG2uOeTwnW54/9cuu5Vb99Oax2ludG48158+EfVjC3s/Z2pg/6BoIW7gN2CNdu2v8/vNQPrUtP76Yv7Q5xgOMcVZ3nkxReqJY64lkT7Y+P5y/aZaaP3usHe0XKNffsXF+98l73saeXz2PxS3cvndzz99SWvfvKPOyZ3p8zTW/RzlvpXHMOX/A1q2yeJL6fJMpn3kSP4D1c/yHR+qBnnrg5+LifLHcE4m3roypuyRPf3LjjY/zxrW2Vl3x1Mn1bylWP9fPXP9S8aU8S1qyHzY/uXq2P9R6/lI1UsbmN57jU32ZWnfLasZ75HlIaXkd1Myzhzdf67qt1fSv5Ti8dWv611Kubqx1/7z5Wtf1mqOu5/hc3Zg3bqxU/hrPfOYzk/2be/7EU9c7f7m4oX6kjhNvXfHWzW0H1rDqB8bGbSx7oFrLPcBScbYt5M0XS+USb76xdbdmzfGGOXPWqus1R/9amqt/rfKEfWvZv1bmmr8hYc0l66413rWc23i9Ws/LWvlq6oaxS5ljHB5z1A1jp1qrf2vV9aqp25K3birOtrUwNVeqfzlh7FTeuqk42xby5oulcok339i6wJruXF5ePri4uDj9+LCbm5vTd5jTHp40eGKb5tzmb47xntMcbn2sPB9Mw7W8LK7XaZg/eJzLdXJ1ddVdX193t7e3py1t8HshjecfbAmLJxvBEwOQp8eH8BgB9mfN3288d0zD/AEPm2vx5Jzwugd7xeIJAAAAADiweAKcL/7bDgAAAAAAQAGLJwAAAAAAAAUsngAAAAAAABSweAIAAAAAAFDA4gkAAAAAAEABiycAAAAAAAAFLJ4AAAAAAAAUsHgCAAAAAABQwOIJAAAAAABAAYsnAAAAAAAABSyeAAAAAAAAFLB4AgAAAAAAUMDiCQAAAAAAQAGLJwAAAAAAAAUsngAAAAAAABSweAIAAAAAAFDA4gkAAAAAAEBW1/0f/4yXTzBFgw8AAAAASUVORK5CYII=)"
      ],
      "metadata": {
        "id": "5oKN0-CsfwVM"
      }
    },
    {
      "cell_type": "markdown",
      "source": [
        "8)pre-trained 된 weight값 가져오기"
      ],
      "metadata": {
        "id": "ffoR9AQkZZvO"
      }
    },
    {
      "cell_type": "code",
      "source": [
        "%cd '/content/drive/MyDrive/darknet'"
      ],
      "metadata": {
        "id": "4So-zJcuZcYT"
      },
      "execution_count": null,
      "outputs": []
    },
    {
      "cell_type": "code",
      "source": [
        "!wget https://github.com/AlexeyAB/darknet/releases/download/darknet_yolo_v3_optimal/yolov4.conv.137"
      ],
      "metadata": {
        "id": "79b-bONUaBdt"
      },
      "execution_count": null,
      "outputs": []
    },
    {
      "cell_type": "markdown",
      "source": [
        "9)yolov4-custom.cfg파일 수정 \n",
        "\n",
        "✨net layer\n",
        "* subdivision = 16 -> batch size를 더 쪼개서 16개로 한다는 의미\n",
        "* width = 416\n",
        "* height = 416\n",
        "* max_batches = num_classes * 2000 = 100 * 2000 = 200000\n",
        "* steps = max_batches * 0.8, max_batches * 0.9 = 3200, 3600 -> 160000, 180000\n",
        "\n",
        "✨yolo 바로 앞 conv layer\n",
        "* filters = 315로\n",
        "* yolo layer 앞에 있는 convolutional layer 마다 filers = (num_classes + 5) * 3 = 315\n",
        "\n",
        "✨yolo layer(=classification layer)\n",
        "* yolo layer 마다 classes=100\n"
      ],
      "metadata": {
        "id": "eZMdwcfVaGBs"
      }
    },
    {
      "cell_type": "markdown",
      "source": [
        "10)makefile 파일 수정 후 make로 compile\n",
        "\n",
        "darknet 폴더내에 있는 makefile에는 darknet구축을 위한 옵션이 저장되어있음"
      ],
      "metadata": {
        "id": "bl-UImibaQIb"
      }
    },
    {
      "cell_type": "code",
      "source": [
        "# GPU, OPENCV, LIBSO true\n",
        "!sed -i 's/OPENCV=0/OPENCV=1/' Makefile #활성화 시켜주는 것\n",
        "!sed -i 's/GPU=0/GPU=1/' Makefile\n",
        "!sed -i 's/CUDNN=0/CUDNN=1/' Makefile\n",
        "!sed -i 's/CUDNN_HALF=0/CUDNN_HALF=1/' Makefile #gpu 돌릴때 가속화 시킬때 사용\n",
        "!sed -i 's/LIBSO=0/LIBSO=1/' Makefile"
      ],
      "metadata": {
        "id": "pFp2rZfyaKxb"
      },
      "execution_count": null,
      "outputs": []
    },
    {
      "cell_type": "markdown",
      "source": [
        "* OpenCV는 오픈 소스 컴퓨터 비전 라이브러리이다. \n",
        "* Libso는 so 라이브러리 파일(=동적 라이브러리 파일)을 만드는 옵션이다. LIBSO=1(=True)로 설정하면 darknet.so 파일이 생성되며, 파이썬으로 darknet을 작동시키는 것이 가능해진다."
      ],
      "metadata": {
        "id": "tpoUAp8ngcMV"
      }
    },
    {
      "cell_type": "code",
      "source": [
        "# 위의 변경된 옵션으로 makefile을 컴파일하면 darknet.py 사용이 가능해진다.\n",
        "!make"
      ],
      "metadata": {
        "id": "VDH81qHWaWyK"
      },
      "execution_count": null,
      "outputs": []
    },
    {
      "cell_type": "markdown",
      "source": [
        "11)darknet으로 모델학습\n",
        "\n",
        "custom dataset으로 transfer learning"
      ],
      "metadata": {
        "id": "MgsO8V93aYxT"
      }
    },
    {
      "cell_type": "code",
      "source": [
        "# 모델학습\n",
        "!./darknet detector train data/mask_data.data cfg/yolov4-custom.cfg /content/drive/MyDrive/darknet/yolov4.conv.137 -dont_show -map"
      ],
      "metadata": {
        "id": "tXCndcFvabtX"
      },
      "execution_count": null,
      "outputs": []
    },
    {
      "cell_type": "code",
      "source": [
        "# 모델학습재개하는법(최근 100번째단위 weight로)\n",
        "#!./darknet detector train data/mask_data.data cfg/yolov4-custom.cfg /content/drive/MyDrive/darknet/backup/yolov4-custom_last.weights -dont_show -map"
      ],
      "metadata": {
        "id": "5eCJx3YoavHy"
      },
      "execution_count": null,
      "outputs": []
    }
  ]
}